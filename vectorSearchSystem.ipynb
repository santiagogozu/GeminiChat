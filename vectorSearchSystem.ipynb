{
 "cells": [
  {
   "cell_type": "code",
   "execution_count": 1,
   "id": "fd92cfaa",
   "metadata": {},
   "outputs": [],
   "source": [
    "!pip install langchain google-generativeai python-dotenv langchain_community langchain-google-genai faiss-cpu -q"
   ]
  },
  {
   "cell_type": "code",
   "execution_count": 29,
   "id": "8a7f0ad4",
   "metadata": {},
   "outputs": [],
   "source": [
    "import os #trabajar arhivoc de texto\n",
    "from dotenv import load_dotenv\n",
    "from langchain.document_loaders import TextLoader # Cargar archivo de texto\n",
    "from langchain.text_splitter import CharacterTextSplitter # Dividir textos en textos mas chicos\n",
    "from langchain_google_genai import GoogleGenerativeAIEmbeddings # Trnasformar en vectores los textos \n",
    "from langchain.vectorstores import FAISS #Buscar en forma de vectores\n",
    "\n",
    "from langchain_google_genai import ChatGoogleGenerativeAI \n",
    "from langchain.chains import RetrievalQA"
   ]
  },
  {
   "cell_type": "code",
   "execution_count": 30,
   "id": "882fa220",
   "metadata": {},
   "outputs": [],
   "source": [
    "#Cargar y procesar el documento\n",
    "\n",
    "loader = TextLoader('gastos.txt', encoding='utf-8')\n",
    "documents = loader.load()"
   ]
  },
  {
   "cell_type": "code",
   "execution_count": 31,
   "id": "21803a07",
   "metadata": {},
   "outputs": [],
   "source": [
    "#Dividir el texto en chunks\n",
    "\n",
    "text_splitter= CharacterTextSplitter(chunk_size=500, chunk_overlap=50) # Splitter recursivo\n",
    "texts = text_splitter.split_documents(documents)"
   ]
  },
  {
   "cell_type": "code",
   "execution_count": 32,
   "id": "7aaa027a",
   "metadata": {},
   "outputs": [],
   "source": [
    "#Crear embeddings\n",
    "\n",
    "embeddings = GoogleGenerativeAIEmbeddings(\n",
    "    model=\"models/embedding-001\",\n",
    "    google_api_key=os.getenv(\"GENAI_API_KEY\")\n",
    ")"
   ]
  },
  {
   "cell_type": "code",
   "execution_count": 33,
   "id": "315ad2fa",
   "metadata": {},
   "outputs": [],
   "source": [
    "#Crear base de datos vectorial\n",
    "\n",
    "db = FAISS.from_documents(texts, embeddings)"
   ]
  },
  {
   "cell_type": "code",
   "execution_count": 44,
   "id": "46c13864",
   "metadata": {},
   "outputs": [
    {
     "name": "stdout",
     "output_type": "stream",
     "text": [
      "Hola! Según la información proporcionada, gastas más dinero en \"Arriendo\" con un monto de 1200000.\n"
     ]
    }
   ],
   "source": [
    "#Realizar una busuqeda\n",
    "\n",
    "query = \"Hola chat como estas? te pregunto ¿en que gasto mas mi dinero?.\"\n",
    "\n",
    "# Inicializar el modelo de chat\n",
    "llm = ChatGoogleGenerativeAI(\n",
    "    model=\"gemini-2.0-flash-exp\",\n",
    "    google_api_key=os.getenv(\"GENAI_API_KEY\"),\n",
    "    temperature=0.7 #Creatividad del modelo\n",
    ")\n",
    "\n",
    "# Crear la cadena de recuperación y respuesta\n",
    "qa_chain = RetrievalQA.from_chain_type(llm, retriever=db.as_retriever())\n",
    "\n",
    "# Ejecutar la consulta y obtener la respuesta\n",
    "response = qa_chain.run(query)\n",
    "\n",
    "\n",
    "# Reemplazar los asteriscos por negrita en Markdown\n",
    "response = response.replace(\"* **\", \"**\").replace(\"**:\", \"**\").replace(\"*\", \"\")\n",
    "\n",
    "# Imprimir la respuesta\n",
    "print(response)"
   ]
  },
  {
   "cell_type": "code",
   "execution_count": null,
   "id": "e4460c0f",
   "metadata": {},
   "outputs": [],
   "source": []
  },
  {
   "cell_type": "code",
   "execution_count": null,
   "id": "2a2d299a",
   "metadata": {},
   "outputs": [],
   "source": []
  }
 ],
 "metadata": {
  "kernelspec": {
   "display_name": "Python 3",
   "language": "python",
   "name": "python3"
  },
  "language_info": {
   "codemirror_mode": {
    "name": "ipython",
    "version": 3
   },
   "file_extension": ".py",
   "mimetype": "text/x-python",
   "name": "python",
   "nbconvert_exporter": "python",
   "pygments_lexer": "ipython3",
   "version": "3.12.6"
  }
 },
 "nbformat": 4,
 "nbformat_minor": 5
}
