{
 "cells": [
  {
   "cell_type": "code",
   "execution_count": null,
   "id": "8a7f0ad4",
   "metadata": {},
   "outputs": [],
   "source": [
    "import os #trabajar arhivoc de texto\n",
    "from dotenv import load_dotenv\n",
    "from langchain.document_loaders import TextLoader # Cargar archivo de texto\n",
    "from langchain.text_splitter import CharacterTextSplitter # Dividir textos en textos mas chicos\n",
    "from langchain.vectorstores import FAISS #Buscar en forma de vectores\n",
    "\n",
    "from langchain_google_genai import ChatGoogleGenerativeAI \n",
    "from langchain.chains import RetrievalQA\n",
    "\n",
    "from langchain.embeddings import HuggingFaceEmbeddings\n",
    "\n",
    "from langchain.chat_models import ChatOpenAI"
   ]
  },
  {
   "cell_type": "code",
   "execution_count": 10,
   "id": "882fa220",
   "metadata": {},
   "outputs": [],
   "source": [
    "#Cargar y procesar el documento\n",
    "\n",
    "loader = TextLoader('gastos.txt', encoding='utf-8')\n",
    "documents = loader.load()"
   ]
  },
  {
   "cell_type": "code",
   "execution_count": 11,
   "id": "21803a07",
   "metadata": {},
   "outputs": [],
   "source": [
    "#Dividir el texto en chunks\n",
    "\n",
    "text_splitter= CharacterTextSplitter(chunk_size=500, chunk_overlap=50) # Splitter recursivo\n",
    "texts = text_splitter.split_documents(documents)"
   ]
  },
  {
   "cell_type": "code",
   "execution_count": 12,
   "id": "7aaa027a",
   "metadata": {},
   "outputs": [
    {
     "name": "stderr",
     "output_type": "stream",
     "text": [
      "C:\\Users\\USUARIO\\AppData\\Local\\Temp\\ipykernel_9788\\2888338921.py:3: LangChainDeprecationWarning: The class `HuggingFaceEmbeddings` was deprecated in LangChain 0.2.2 and will be removed in 1.0. An updated version of the class exists in the :class:`~langchain-huggingface package and should be used instead. To use it run `pip install -U :class:`~langchain-huggingface` and import as `from :class:`~langchain_huggingface import HuggingFaceEmbeddings``.\n",
      "  embeddings = HuggingFaceEmbeddings(\n",
      "e:\\Programacion\\JD\\Piragua\\GeminiChat\\venv310\\lib\\site-packages\\huggingface_hub\\file_download.py:144: UserWarning: `huggingface_hub` cache-system uses symlinks by default to efficiently store duplicated files but your machine does not support them in C:\\Users\\USUARIO\\.cache\\huggingface\\hub\\models--sentence-transformers--all-MiniLM-L6-v2. Caching files will still work but in a degraded version that might require more space on your disk. This warning can be disabled by setting the `HF_HUB_DISABLE_SYMLINKS_WARNING` environment variable. For more details, see https://huggingface.co/docs/huggingface_hub/how-to-cache#limitations.\n",
      "To support symlinks on Windows, you either need to activate Developer Mode or to run Python as an administrator. In order to activate developer mode, see this article: https://docs.microsoft.com/en-us/windows/apps/get-started/enable-your-device-for-development\n",
      "  warnings.warn(message)\n",
      "Xet Storage is enabled for this repo, but the 'hf_xet' package is not installed. Falling back to regular HTTP download. For better performance, install the package with: `pip install huggingface_hub[hf_xet]` or `pip install hf_xet`\n"
     ]
    }
   ],
   "source": [
    "# Crear embeddings usando un modelo gratuito de HuggingFace\n",
    "\n",
    "embeddings = HuggingFaceEmbeddings(\n",
    "    model_name=\"sentence-transformers/all-MiniLM-L6-v2\"\n",
    ")\n"
   ]
  },
  {
   "cell_type": "code",
   "execution_count": 13,
   "id": "315ad2fa",
   "metadata": {},
   "outputs": [],
   "source": [
    "#Crear base de datos vectorial\n",
    "\n",
    "db = FAISS.from_documents(texts, embeddings)"
   ]
  },
  {
   "cell_type": "code",
   "execution_count": null,
   "id": "46c13864",
   "metadata": {},
   "outputs": [
    {
     "name": "stdout",
     "output_type": "stream",
     "text": [
      "Hola! Según la información proporcionada, gastas más dinero en el arriendo de tu apartamento, con un monto de 1.200.000 al mes.\n"
     ]
    }
   ],
   "source": [
    "#Realizar una busuqeda\n",
    "\n",
    "query = \"Hola chat como estas? te pregunto ¿en que gasto mas mi dinero?.\"\n",
    "\n",
    "# Inicializar el modelo de chat\n",
    "llm = ChatOpenAI(\n",
    "    model=\"gpt-3.5-turbo\",  # O \"gpt-4\" si tienes acceso\n",
    "    openai_api_key=os.getenv(\"OPENAI_API_KEY\"),\n",
    "    temperature=0.7\n",
    ")\n",
    "\n",
    "# Crear la cadena de recuperación y respuesta\n",
    "qa_chain = RetrievalQA.from_chain_type(llm, retriever=db.as_retriever())\n",
    "\n",
    "# Ejecutar la consulta y obtener la respuesta\n",
    "response = qa_chain.run(query)\n",
    "\n",
    "\n",
    "# Reemplazar los asteriscos por negrita en Markdown\n",
    "response = response.replace(\"* **\", \"**\").replace(\"**:\", \"**\").replace(\"*\", \"\")\n",
    "\n",
    "# Imprimir la respuesta\n",
    "print(response)"
   ]
  },
  {
   "cell_type": "code",
   "execution_count": null,
   "id": "e4460c0f",
   "metadata": {},
   "outputs": [],
   "source": []
  },
  {
   "cell_type": "code",
   "execution_count": null,
   "id": "2a2d299a",
   "metadata": {},
   "outputs": [],
   "source": []
  }
 ],
 "metadata": {
  "kernelspec": {
   "display_name": "venv310",
   "language": "python",
   "name": "python3"
  },
  "language_info": {
   "codemirror_mode": {
    "name": "ipython",
    "version": 3
   },
   "file_extension": ".py",
   "mimetype": "text/x-python",
   "name": "python",
   "nbconvert_exporter": "python",
   "pygments_lexer": "ipython3",
   "version": "3.10.0"
  }
 },
 "nbformat": 4,
 "nbformat_minor": 5
}
