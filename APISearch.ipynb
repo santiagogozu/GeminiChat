{
 "cells": [
  {
   "cell_type": "code",
   "execution_count": 34,
   "id": "a8da7418",
   "metadata": {},
   "outputs": [
    {
     "data": {
      "text/plain": [
       "True"
      ]
     },
     "execution_count": 34,
     "metadata": {},
     "output_type": "execute_result"
    }
   ],
   "source": [
    "import os\n",
    "import requests\n",
    "import json\n",
    "import re\n",
    "from dotenv import load_dotenv\n",
    "from langchain_google_genai import ChatGoogleGenerativeAI\n",
    "\n",
    "load_dotenv()"
   ]
  },
  {
   "cell_type": "code",
   "execution_count": null,
   "id": "f35cdc05",
   "metadata": {},
   "outputs": [
    {
     "name": "stdout",
     "output_type": "stream",
     "text": [
      "{'oauth2': {'access_token': 'JaxpXbpy0IkqkJX5SbGNVmmQLssKA3', 'expires_in': 36000, 'token_type': 'Bearer', 'scope': 'read write', 'refresh_token': 'Vj5VOdJWBMpL73OYgGZqd7JMbkVF7C'}, 'id': 8019, 'user': {'id': 8875, 'username': 'katherine.aguirreor@gmail.com', 'is_active': True, 'is_staff': True, 'user_permissions': [], 'groups': [10]}, 'app_token': '', 'tipo_identificacion': 'CODIGO', 'identificacion': 'katherine.aguirreor@gmail.com', 'municipio': 1, 'territorial': 8, 'grupo_piraguero': None, 'zona': 'ND', 'nombres': '', 'apellidos': '', 'genero': 'ND', 'ocupacion': '', 'rango_edad': 'INDETERMINADO', 'fecha_nacimiento': None, 'grupo_poblacional': 'NINGUNO', 'tipo_actor': 'Sin especificar', 'nivel_academico': 'Estudiante', 'empresa': None, 'organizacion': '', 'email': 'katherine.aguirreor@gmail.com', 'telefono': '', 'foto': None, 'flags': {'id': 7028, 'lider': False, 'custodio': False, 'mide_lluvia': False, 'reporta_lluvia': False, 'gestor_limnigrafico': False, 'gestor_pluviografico': False, 'gestor_riesgo': False, 'permiso_acceso': False, 'integrante': False}}\n"
     ]
    }
   ],
   "source": [
    "def obtener_api_url(clave):\n",
    "    # \"\"\"Obtiene la URL de la API del archivo de configuración.\"\"\"\n",
    "    try:\n",
    "        with open(\"api_config.txt\", \"r\") as f:\n",
    "            for linea in f:\n",
    "                if clave in linea:\n",
    "                    return linea.split(\"=\")[1].strip()\n",
    "    except FileNotFoundError:\n",
    "        print(\"Archivo de configuración no encontrado.\")\n",
    "        return None\n",
    "\n",
    "def obtener_informacion_usuario(credenciales):\n",
    "    \"\"\"Obtiene la información del usuario de la API de inicio de sesión.\"\"\"\n",
    "    url = obtener_api_url(\"login_api\")\n",
    "    try:\n",
    "        response = requests.post(url, json=credenciales)\n",
    "        response.raise_for_status()\n",
    "        return response.json()\n",
    "    except requests.exceptions.RequestException as e:\n",
    "        print(f\"Error al obtener la información del usuario: {e}\")\n",
    "        return None\n",
    "\n",
    "def obtener_categorias_faq():\n",
    "    \"\"\"Obtiene las categorías de preguntas frecuentes de la API.\"\"\"\n",
    "    url = obtener_api_url(\"faq_api\")\n",
    "    try:\n",
    "        response = requests.get(url)\n",
    "        response.raise_for_status()\n",
    "        data = response.json()\n",
    "        categorias = [item[\"nombre\"] for item in data[\"values\"]]\n",
    "        return categorias\n",
    "    except requests.exceptions.RequestException as e:\n",
    "        print(f\"Error al obtener las categorías de la API: {e}\")\n",
    "        return None\n",
    "\n",
    "def analizar_consulta_login(consulta):\n",
    "    \"\"\"Analiza la consulta del usuario para solicitudes de inicio de sesión y extrae las credenciales.\"\"\"\n",
    "    llm = ChatGoogleGenerativeAI(\n",
    "        model=\"gemini-2.0-flash-exp\",\n",
    "        google_api_key=os.getenv(\"GENAI_API_KEY\"),\n",
    "        temperature=0.3\n",
    "    )\n",
    "\n",
    "    prompt = f\"\"\"\n",
    "    Determina si la siguiente consulta es una solicitud de inicio de sesión. Si es así, extrae las credenciales como un diccionario JSON.\n",
    "\n",
    "    Consulta: \"{consulta}\"\n",
    "\n",
    "    Si la consulta es una solicitud de inicio de sesión, responde con el diccionario JSON de las credenciales. De lo contrario, responde \"no\".\n",
    "    \"\"\"\n",
    "\n",
    "    respuesta = llm.invoke(prompt).content.strip()\n",
    "\n",
    "    # Extraer el JSON puro de la respuesta\n",
    "    json_match = re.search(r'\\{.*\\}', respuesta, re.DOTALL)\n",
    "    if json_match:\n",
    "        json_str = json_match.group(0)\n",
    "        try:\n",
    "            credenciales = json.loads(json_str)\n",
    "            return credenciales\n",
    "        except json.JSONDecodeError:\n",
    "            print(\"Error al analizar el JSON extraído.\")\n",
    "            return None\n",
    "    else:\n",
    "        return None\n",
    "\n",
    "def analizar_consulta_faq(consulta):\n",
    "    \"\"\"Analiza la consulta del usuario para preguntas frecuentes.\"\"\"\n",
    "    llm = ChatGoogleGenerativeAI(\n",
    "        model=\"gemini-2.0-flash-exp\",\n",
    "        google_api_key=os.getenv(\"GENAI_API_KEY\"),\n",
    "        temperature=0.3\n",
    "    )\n",
    "\n",
    "    prompt = f\"\"\"\n",
    "    Determina si la siguiente consulta es una pregunta sobre las categorías de preguntas frecuentes:\n",
    "    \"{consulta}\"\n",
    "\n",
    "    Responde \"sí\" o \"no\".\n",
    "    \"\"\"\n",
    "\n",
    "    respuesta = llm.invoke(prompt).content.lower()\n",
    "    return \"sí\" in respuesta\n",
    "\n",
    "# query = \"\"\"cuales son las categorias de las faq-topics\"\"\"\n",
    "\n",
    "\n",
    "\n",
    "credenciales = analizar_consulta_login(query)\n",
    "\n",
    "if credenciales:\n",
    "    informacion_usuario = obtener_informacion_usuario(credenciales)\n",
    "    if informacion_usuario:\n",
    "        print(informacion_usuario)\n",
    "    else:\n",
    "        print(\"No se pudo obtener la información del usuario.\")\n",
    "elif analizar_consulta_faq(query):\n",
    "    categorias = obtener_categorias_faq()\n",
    "    if categorias:\n",
    "        respuesta = \"Las categorías de preguntas frecuentes son: \" + \", \".join(categorias)\n",
    "        print(respuesta)\n",
    "    else:\n",
    "        print(\"No se pudo obtener la información de las categorías.\")\n",
    "else:\n",
    "    print(\"La consulta no es una solicitud de inicio de sesión o pregunta de categorías válida.\")"
   ]
  },
  {
   "cell_type": "code",
   "execution_count": null,
   "id": "42422ca9",
   "metadata": {},
   "outputs": [],
   "source": []
  }
 ],
 "metadata": {
  "kernelspec": {
   "display_name": "venv310",
   "language": "python",
   "name": "python3"
  },
  "language_info": {
   "codemirror_mode": {
    "name": "ipython",
    "version": 3
   },
   "file_extension": ".py",
   "mimetype": "text/x-python",
   "name": "python",
   "nbconvert_exporter": "python",
   "pygments_lexer": "ipython3",
   "version": "3.10.0"
  }
 },
 "nbformat": 4,
 "nbformat_minor": 5
}
